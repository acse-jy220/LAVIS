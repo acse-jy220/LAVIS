{
 "cells": [
  {
   "cell_type": "code",
   "execution_count": 1,
   "id": "c637c4a5",
   "metadata": {},
   "outputs": [],
   "source": [
    "import torch\n",
    "import mindspore as ms\n",
    "from mindspore import Tensor"
   ]
  },
  {
   "cell_type": "code",
   "execution_count": 242,
   "id": "11942bc1",
   "metadata": {},
   "outputs": [],
   "source": [
    "m = torch.randn(5, 4, 3)"
   ]
  },
  {
   "cell_type": "code",
   "execution_count": 244,
   "id": "1f47bbff",
   "metadata": {},
   "outputs": [],
   "source": [
    "mm = torch.nn.Softmax(dim=-1)(m)"
   ]
  },
  {
   "cell_type": "code",
   "execution_count": 251,
   "id": "de89dc99",
   "metadata": {},
   "outputs": [
    {
     "data": {
      "text/plain": [
       "tensor(True)"
      ]
     },
     "execution_count": 251,
     "metadata": {},
     "output_type": "execute_result"
    }
   ],
   "source": [
    "mm.sum(-1).all() == 1"
   ]
  },
  {
   "cell_type": "code",
   "execution_count": 2,
   "id": "ce7877e3",
   "metadata": {},
   "outputs": [],
   "source": [
    "from mindspore.nn import Dropout, LayerNorm\n",
    "from mindspore import ops as P\n",
    "import mindspore.numpy"
   ]
  },
  {
   "cell_type": "code",
   "execution_count": 254,
   "id": "d8cce19d",
   "metadata": {},
   "outputs": [],
   "source": [
    "n = mindspore.numpy.randn(5, 4, 3)\n",
    "nn = mindspore.nn.Softmax(axis=-1)(n)"
   ]
  },
  {
   "cell_type": "code",
   "execution_count": 300,
   "id": "77576521",
   "metadata": {},
   "outputs": [],
   "source": [
    "import numpy"
   ]
  },
  {
   "cell_type": "code",
   "execution_count": 168,
   "id": "8442369f",
   "metadata": {},
   "outputs": [],
   "source": [
    "import torch\n",
    "def ForLoop_L2_weight_torch(x:torch.Tensor, dim):\n",
    "    a = x.clone()\n",
    "    slices = [slice(None) for i in range(x.ndim)]\n",
    "    sum1 = 0\n",
    "    for i in range(x.shape[dim]):\n",
    "        slices[dim] = i\n",
    "        idx_slice = tuple(slices)\n",
    "        # print(idx_slice)\n",
    "        sum1 += x[idx_slice] ** 2\n",
    "\n",
    "    sum2 = 0\n",
    "    for i in range(x.shape[dim]):\n",
    "        slices[dim] = i\n",
    "        idx_slice = tuple(slices)\n",
    "        if i != x.shape[dim] - 1:\n",
    "            a[idx_slice] = x[idx_slice] ** 2 / sum1\n",
    "            sum2 += a[idx_slice]\n",
    "        else:\n",
    "            a[idx_slice] = 1 - sum2\n",
    "\n",
    "    return a"
   ]
  },
  {
   "cell_type": "code",
   "execution_count": 169,
   "id": "75bca6a9",
   "metadata": {},
   "outputs": [],
   "source": [
    "from mindspore import Tensor\n",
    "def ForLoop_L2_weight_ms(x:Tensor, dim):\n",
    "    a = x.copy()\n",
    "    slices = [slice(None) for i in range(x.ndim)]\n",
    "    sum1 = 0\n",
    "    for i in range(x.shape[dim]):\n",
    "        slices[dim] = i\n",
    "        idx_slice = tuple(slices)\n",
    "        # print(idx_slice)\n",
    "        sum1 += x[idx_slice] ** 2\n",
    "\n",
    "    sum2 = 0\n",
    "    for i in range(x.shape[dim]):\n",
    "        slices[dim] = i\n",
    "        idx_slice = tuple(slices)\n",
    "        if i != x.shape[dim] - 1:\n",
    "            a[idx_slice] = x[idx_slice] ** 2 / sum1\n",
    "            sum2 += a[idx_slice]\n",
    "        else:\n",
    "            a[idx_slice] = 1 - sum2\n",
    "\n",
    "    return a"
   ]
  },
  {
   "cell_type": "code",
   "execution_count": 170,
   "id": "a8e8b848",
   "metadata": {},
   "outputs": [],
   "source": [
    "from mindspore import numpy as np\n",
    "x = np.randn(10, 20, 755)"
   ]
  },
  {
   "cell_type": "code",
   "execution_count": 171,
   "id": "249b90cd",
   "metadata": {},
   "outputs": [],
   "source": [
    "y = torch.from_numpy(x.asnumpy())"
   ]
  },
  {
   "cell_type": "code",
   "execution_count": 172,
   "id": "1e9a5f9e",
   "metadata": {},
   "outputs": [],
   "source": [
    "yy = ForLoop_L2_weight_torch(y, -1)"
   ]
  },
  {
   "cell_type": "code",
   "execution_count": 173,
   "id": "225dc858",
   "metadata": {},
   "outputs": [],
   "source": [
    "xx = ForLoop_L2_weight_ms(x, -1)"
   ]
  },
  {
   "cell_type": "code",
   "execution_count": 183,
   "id": "c508f0f5",
   "metadata": {},
   "outputs": [
    {
     "data": {
      "text/plain": [
       "True"
      ]
     },
     "execution_count": 183,
     "metadata": {},
     "output_type": "execute_result"
    }
   ],
   "source": [
    "(xx.asnumpy() == yy.detach().numpy()).all()"
   ]
  },
  {
   "cell_type": "code",
   "execution_count": 379,
   "id": "98e505ff",
   "metadata": {},
   "outputs": [
    {
     "name": "stdout",
     "output_type": "stream",
     "text": [
      "(slice(None, None, None), slice(None, None, None), 0)\n",
      "(slice(None, None, None), slice(None, None, None), 1)\n",
      "(slice(None, None, None), slice(None, None, None), 2)\n",
      "(slice(None, None, None), slice(None, None, None), 3)\n",
      "(slice(None, None, None), slice(None, None, None), 4)\n",
      "[[1. 1. 1. 1. 1.]\n",
      " [1. 1. 1. 1. 1.]\n",
      " [1. 1. 1. 1. 1.]\n",
      " [1. 1. 1. 1. 1.]]\n"
     ]
    }
   ],
   "source": [
    "x = numpy.random.randn(4, 5, 5)\n",
    "dim = -1\n",
    "a = ForLoop_L2_weight(x, dim)\n",
    "print(a.sum(dim))"
   ]
  },
  {
   "cell_type": "code",
   "execution_count": 388,
   "id": "870f86e4",
   "metadata": {},
   "outputs": [
    {
     "name": "stdout",
     "output_type": "stream",
     "text": [
      "(slice(None, None, None), slice(None, None, None), 0)\n",
      "(slice(None, None, None), slice(None, None, None), 1)\n",
      "(slice(None, None, None), slice(None, None, None), 2)\n",
      "(slice(None, None, None), slice(None, None, None), 3)\n",
      "(slice(None, None, None), slice(None, None, None), 4)\n"
     ]
    }
   ],
   "source": [
    "x1 = ms.numpy.randn(4, 5, 5)\n",
    "dim = -1\n",
    "a1 = ForLoop_L2_weight(x1, dim)"
   ]
  },
  {
   "cell_type": "code",
   "execution_count": 389,
   "id": "92a2aaa4",
   "metadata": {},
   "outputs": [
    {
     "name": "stdout",
     "output_type": "stream",
     "text": [
      "[[1.         1.         1.         0.99999994 1.        ]\n",
      " [1.         1.         0.99999994 1.         0.99999994]\n",
      " [1.         0.99999994 1.         1.         1.        ]\n",
      " [1.         1.         0.99999994 1.         1.        ]]\n"
     ]
    }
   ],
   "source": [
    "print(a1.sum(-1).asnumpy())"
   ]
  },
  {
   "cell_type": "code",
   "execution_count": 390,
   "id": "ec25ca00",
   "metadata": {},
   "outputs": [
    {
     "name": "stdout",
     "output_type": "stream",
     "text": [
      "[[1. 1. 1. 1. 1.]\n",
      " [1. 1. 1. 1. 1.]\n",
      " [1. 1. 1. 1. 1.]\n",
      " [1. 1. 1. 1. 1.]]\n"
     ]
    }
   ],
   "source": [
    "print(a1.asnumpy().sum(-1))"
   ]
  },
  {
   "cell_type": "code",
   "execution_count": 334,
   "id": "ca56b222",
   "metadata": {},
   "outputs": [
    {
     "data": {
      "text/plain": [
       "array([[ True,  True, False,  True, False],\n",
       "       [ True, False, False,  True, False],\n",
       "       [False, False,  True,  True, False],\n",
       "       [ True,  True,  True, False, False]])"
      ]
     },
     "execution_count": 334,
     "metadata": {},
     "output_type": "execute_result"
    }
   ],
   "source": [
    "a1.sum(-1).asnumpy() == a.sum(-1)"
   ]
  },
  {
   "cell_type": "code",
   "execution_count": 284,
   "id": "ce477df0",
   "metadata": {},
   "outputs": [
    {
     "name": "stdout",
     "output_type": "stream",
     "text": [
      "[[1.71273677 1.87997114 1.89289991 2.10592656 2.00855055]\n",
      " [2.05211375 1.89369548 2.08435012 1.75468206 2.08926579]\n",
      " [1.98841168 1.86742908 1.82573692 1.6680897  1.93287007]\n",
      " [2.18620448 1.74255429 2.02136599 1.8921174  1.77529027]]\n"
     ]
    }
   ],
   "source": [
    "print(a.sum(-1))"
   ]
  },
  {
   "cell_type": "code",
   "execution_count": null,
   "id": "406f3eb8",
   "metadata": {},
   "outputs": [],
   "source": [
    "import numpy\n",
    "def manual_sum(x: numpy.ndarray):\n",
    "    "
   ]
  },
  {
   "cell_type": "code",
   "execution_count": 256,
   "id": "70fc3930",
   "metadata": {},
   "outputs": [
    {
     "data": {
      "text/plain": [
       "Tensor(shape=[5, 4], dtype=Float32, value=\n",
       "[[ 1.00000000e+00,  1.00000000e+00,  1.00000000e+00,  1.00000000e+00],\n",
       " [ 1.00000012e+00,  9.99999940e-01,  1.00000000e+00,  1.00000000e+00],\n",
       " [ 1.00000012e+00,  1.00000000e+00,  1.00000000e+00,  1.00000000e+00],\n",
       " [ 1.00000000e+00,  1.00000000e+00,  9.99999940e-01,  1.00000000e+00],\n",
       " [ 1.00000000e+00,  9.99999940e-01,  9.99999940e-01,  1.00000000e+00]])"
      ]
     },
     "execution_count": 256,
     "metadata": {},
     "output_type": "execute_result"
    }
   ],
   "source": [
    "nn.sum(-1)"
   ]
  },
  {
   "cell_type": "code",
   "execution_count": 27,
   "id": "c4d90560",
   "metadata": {},
   "outputs": [],
   "source": [
    "l = mindspore.numpy.randn(10, 5, 3)"
   ]
  },
  {
   "cell_type": "code",
   "execution_count": 22,
   "id": "23f03943",
   "metadata": {},
   "outputs": [],
   "source": [
    "a = Dropout(keep_prob=0.0)"
   ]
  },
  {
   "cell_type": "code",
   "execution_count": 36,
   "id": "f64ecb9a",
   "metadata": {},
   "outputs": [
    {
     "data": {
      "text/plain": [
       "Tensor(shape=[], dtype=Bool, value= True)"
      ]
     },
     "execution_count": 36,
     "metadata": {},
     "output_type": "execute_result"
    }
   ],
   "source": [
    "(a(l) == l).all()"
   ]
  },
  {
   "cell_type": "code",
   "execution_count": 37,
   "id": "497f5b2d",
   "metadata": {},
   "outputs": [],
   "source": [
    "import torch.nn\n",
    "b = torch.nn.Dropout(p=0.0, inplace=False)"
   ]
  },
  {
   "cell_type": "code",
   "execution_count": 38,
   "id": "04d7562f",
   "metadata": {},
   "outputs": [],
   "source": [
    "l_2 = torch.from_numpy(l.asnumpy())"
   ]
  },
  {
   "cell_type": "code",
   "execution_count": 39,
   "id": "9b46c005",
   "metadata": {},
   "outputs": [
    {
     "data": {
      "text/plain": [
       "tensor(True)"
      ]
     },
     "execution_count": 39,
     "metadata": {},
     "output_type": "execute_result"
    }
   ],
   "source": [
    "(b(l_2) == l_2).all()"
   ]
  },
  {
   "cell_type": "code",
   "execution_count": 98,
   "id": "a50e6a1a",
   "metadata": {},
   "outputs": [],
   "source": [
    "from mindspore import numpy as np\n",
    "from mindspore import ops as P"
   ]
  },
  {
   "cell_type": "code",
   "execution_count": 99,
   "id": "34a25c47",
   "metadata": {},
   "outputs": [],
   "source": [
    "x = np.randn(10, 32, 974)"
   ]
  },
  {
   "cell_type": "code",
   "execution_count": 101,
   "id": "27d04523",
   "metadata": {},
   "outputs": [
    {
     "name": "stdout",
     "output_type": "stream",
     "text": [
      "(3, 638) (10, 32, 974) (10, 32, 2922)\n"
     ]
    },
    {
     "data": {
      "text/plain": [
       "(10, 32, 3560)"
      ]
     },
     "execution_count": 101,
     "metadata": {},
     "output_type": "execute_result"
    }
   ],
   "source": [
    "out_channels = 3560\n",
    "in_channels = x.shape[-1]\n",
    "multi = int(out_channels / in_channels)\n",
    "rem = int(out_channels % in_channels)\n",
    "rep_tuple = [1] * x.ndim\n",
    "rep_tuple[-1] = multi\n",
    "rep_tuple = tuple(rep_tuple)\n",
    "y = np.tile(x, rep_tuple)\n",
    "print((multi, rem), x.shape, y.shape)\n",
    "P.concat((y, x[..., :rem]), axis=-1).shape"
   ]
  },
  {
   "cell_type": "code",
   "execution_count": 133,
   "id": "8f6ac9da",
   "metadata": {},
   "outputs": [],
   "source": [
    "attention_probs_dropped_path = \"/mnt/d/compare/attention_probs.pth\"\n",
    "value_layer_path = \"/mnt/d/compare/value_layer.pth\""
   ]
  },
  {
   "cell_type": "code",
   "execution_count": 134,
   "id": "15fdd826",
   "metadata": {},
   "outputs": [],
   "source": [
    "attention_probs_dropped = torch.load(attention_probs_dropped_path)\n",
    "value_layer = torch.load(value_layer_path)"
   ]
  },
  {
   "cell_type": "code",
   "execution_count": 135,
   "id": "2df9ae86",
   "metadata": {},
   "outputs": [],
   "source": [
    "context_layer_pytorch = torch.matmul(attention_probs_dropped, value_layer)"
   ]
  },
  {
   "cell_type": "code",
   "execution_count": 136,
   "id": "6e18b656",
   "metadata": {},
   "outputs": [
    {
     "data": {
      "text/plain": [
       "torch.Size([100, 12, 32, 64])"
      ]
     },
     "execution_count": 136,
     "metadata": {},
     "output_type": "execute_result"
    }
   ],
   "source": [
    "context_layer_pytorch.shape"
   ]
  },
  {
   "cell_type": "code",
   "execution_count": 137,
   "id": "3c1cb154",
   "metadata": {},
   "outputs": [],
   "source": [
    "attention_probs_dropped_ms = Tensor.from_numpy(attention_probs_dropped.detach().numpy())\n",
    "value_layer_ms = Tensor.from_numpy(value_layer.detach().numpy())"
   ]
  },
  {
   "cell_type": "code",
   "execution_count": 138,
   "id": "44bb7d00",
   "metadata": {},
   "outputs": [],
   "source": [
    "context_layer_ms = P.matmul(attention_probs_dropped_ms, value_layer_ms)"
   ]
  },
  {
   "cell_type": "code",
   "execution_count": 139,
   "id": "e6598e11",
   "metadata": {},
   "outputs": [
    {
     "data": {
      "text/plain": [
       "0.0"
      ]
     },
     "execution_count": 139,
     "metadata": {},
     "output_type": "execute_result"
    }
   ],
   "source": [
    "np.abs(context_layer_ms.asnumpy() - context_layer_pytorch.detach().numpy()).max()"
   ]
  },
  {
   "cell_type": "code",
   "execution_count": 261,
   "id": "558f098f",
   "metadata": {},
   "outputs": [],
   "source": [
    "# param_name = \"fixed_attention_probs\"\n",
    "param_name = \"outside_hidden_states\"\n",
    "# param_name = \"past_key_value\""
   ]
  },
  {
   "cell_type": "code",
   "execution_count": 262,
   "id": "7aec6dfb",
   "metadata": {},
   "outputs": [],
   "source": [
    "torch_dict = \"/mnt/d/compare/\" + param_name + \".pth\"\n",
    "tt = torch.load(torch_dict)"
   ]
  },
  {
   "cell_type": "code",
   "execution_count": 263,
   "id": "ff5c0eae",
   "metadata": {},
   "outputs": [],
   "source": [
    "ms_dict = \"/mnt/d/compare/\" + param_name + \".ckpt\"\n",
    "mm = ms.load_checkpoint(ms_dict)\n",
    "mm = mm[param_name].value()"
   ]
  },
  {
   "cell_type": "code",
   "execution_count": 264,
   "id": "4bd2ec60",
   "metadata": {},
   "outputs": [
    {
     "data": {
      "text/plain": [
       "0.0"
      ]
     },
     "execution_count": 264,
     "metadata": {},
     "output_type": "execute_result"
    }
   ],
   "source": [
    "# import numpy.linalg as npl\n",
    "import numpy as np\n",
    "np.abs(mm.asnumpy() - tt.detach().numpy()).max()"
   ]
  },
  {
   "cell_type": "code",
   "execution_count": null,
   "id": "1c2c9e7d",
   "metadata": {},
   "outputs": [],
   "source": [
    "4"
   ]
  },
  {
   "cell_type": "code",
   "execution_count": 2,
   "id": "8a208497",
   "metadata": {},
   "outputs": [],
   "source": [
    "import numpy\n",
    "def compare_ms_torch_for_param(param_name: str):\n",
    "    torch_dict = \"/mnt/d/compare/\" + param_name + \".pth\"\n",
    "    tt = torch.load(torch_dict)\n",
    "    ms_dict = \"/mnt/d/compare/\" + param_name + \".ckpt\"\n",
    "    mm = ms.load_checkpoint(ms_dict)\n",
    "    mm = mm[param_name].value()\n",
    "    return numpy.abs(mm.asnumpy() - tt.detach().numpy()).max()"
   ]
  },
  {
   "cell_type": "code",
   "execution_count": 262,
   "id": "9a6897ec",
   "metadata": {
    "scrolled": false
   },
   "outputs": [
    {
     "name": "stdout",
     "output_type": "stream",
     "text": [
      "hidden_states: 0.0\n",
      "attention_mask: 0.0\n",
      "attention_output: 3.814697265625e-06\n"
     ]
    }
   ],
   "source": [
    "# param_names = ['context_layer','outputs[1][0]', 'outputs[1][1]']\n",
    "# num - 11\n",
    "# param_names = [\"hidden_states\", \"attention_mask\", \"encoder_hidden_states\", \"encoder_attention_mask\", \"layer_outputs[1][0]\", \"layer_outputs[1][1]\"]\n",
    "# param_names = [\"hidden_states\", \"attention_mask\", \"encoder_hidden_states\", \"encoder_attention_mask\", \"attention_output\"]\n",
    "param_names = [\"hidden_states\", \"attention_mask\", \"attention_output\"]\n",
    "for param_name in param_names:\n",
    "    print(\"{}: {}\".format(param_name, compare_ms_torch_for_param(param_name)))"
   ]
  },
  {
   "cell_type": "code",
   "execution_count": null,
   "id": "ffe1d87f",
   "metadata": {},
   "outputs": [],
   "source": [
    "save_params({\"hidden_states\":hidden_states, \"attention_mask\":attention_mask, \"encoder_hidden_states\":encoder_hidden_states, \"encoder_attention_mask\":encoder_attention_mask, \"layer_outputs[1][0]\":layer_outputs[1][0], \"layer_outputs[1][1]\":layer_outputs[1][1]})"
   ]
  },
  {
   "cell_type": "code",
   "execution_count": 9,
   "id": "06e0f413",
   "metadata": {},
   "outputs": [
    {
     "name": "stdout",
     "output_type": "stream",
     "text": [
      "query_output_0: 3.814697265625e-06\n",
      "query_output_1: 0.0\n",
      "query_output_2: 0.0\n",
      "query_output_3: 0.0\n",
      "query_output_4: 0.0\n",
      "query_output_5: 0.0\n",
      "query_output_6: 0.0\n",
      "query_output_7: 0.0\n",
      "query_output_8: 0.0\n",
      "query_output_9: 0.0\n",
      "query_output_10: 0.0\n",
      "query_output_11: 0.0\n",
      "query_output_12: 0.0\n",
      "query_output_13: 0.0\n",
      "query_output_14: 0.0\n",
      "query_output_15: 0.0\n",
      "query_output_16: 0.0\n",
      "query_output_17: 0.0\n",
      "query_output_18: 0.0\n",
      "query_output_19: 0.0\n",
      "query_output_20: 0.0\n",
      "query_output_21: 0.0\n",
      "query_output_22: 0.0\n",
      "query_output_23: 1.9073486328125e-06\n",
      "query_output_24: 1.9073486328125e-06\n"
     ]
    }
   ],
   "source": [
    "query_output_num = 25\n",
    "param_names = [\"query_output_{}\".format(i) for i in range(query_output_num)]\n",
    "for param_name in param_names:\n",
    "    print(\"{}: {}\".format(param_name, compare_ms_torch_for_param(param_name)))"
   ]
  },
  {
   "cell_type": "code",
   "execution_count": 10,
   "id": "6d515759",
   "metadata": {},
   "outputs": [
    {
     "name": "stdout",
     "output_type": "stream",
     "text": [
      "text_output_0: 9.685754776000977e-08\n"
     ]
    }
   ],
   "source": [
    "text_output_num = 1\n",
    "param_names = [\"text_output_{}\".format(i) for i in range(text_output_num)]\n",
    "for param_name in param_names:\n",
    "    print(\"{}: {}\".format(param_name, compare_ms_torch_for_param(param_name)))"
   ]
  },
  {
   "cell_type": "code",
   "execution_count": 11,
   "id": "6d74668c",
   "metadata": {},
   "outputs": [
    {
     "name": "stdout",
     "output_type": "stream",
     "text": [
      "output_itm_0: 0.0\n"
     ]
    }
   ],
   "source": [
    "output_itm_num = 1\n",
    "param_names = [\"output_itm_{}\".format(i) for i in range(output_itm_num)]\n",
    "for param_name in param_names:\n",
    "    print(\"{}: {}\".format(param_name, compare_ms_torch_for_param(param_name)))"
   ]
  },
  {
   "cell_type": "code",
   "execution_count": null,
   "id": "4fd18caf",
   "metadata": {},
   "outputs": [],
   "source": [
    "save_params({\"context_layer\":context_layer, \"outputs[1][0]\":outputs[1][0], \"outputs[1][1]\":outputs[1][1]})"
   ]
  },
  {
   "cell_type": "code",
   "execution_count": 81,
   "id": "0a19ef2a",
   "metadata": {},
   "outputs": [],
   "source": [
    "def save_params(params:dict):\n",
    "    for name, params in params.items():\n",
    "        save_param(param, name)"
   ]
  },
  {
   "cell_type": "code",
   "execution_count": 54,
   "id": "c1903721",
   "metadata": {},
   "outputs": [],
   "source": [
    "# tt.detach().numpy()"
   ]
  },
  {
   "cell_type": "code",
   "execution_count": 55,
   "id": "6f5ec8e1",
   "metadata": {},
   "outputs": [],
   "source": [
    "# mm[param_name].value().asnumpy()"
   ]
  },
  {
   "cell_type": "markdown",
   "id": "7f98b97a",
   "metadata": {},
   "source": [
    "# Diffs: \n",
    "\n",
    "### nn.LayerNorm | nn.SoftMax(dim = -1)  | torch.mean/P.Reduced_mean | torch.sum | P.Reduced_sum"
   ]
  },
  {
   "cell_type": "markdown",
   "id": "6f8df97d",
   "metadata": {},
   "source": [
    "## *LayerNorm*"
   ]
  },
  {
   "cell_type": "code",
   "execution_count": 15,
   "id": "47c750cc",
   "metadata": {},
   "outputs": [],
   "source": [
    "param_name_2 = \"LayerNorm\"\n",
    "\n",
    "torch_dict = \"/mnt/d/compare/\" + param_name_2 + \".pth\"\n",
    "ln = torch.load(torch_dict)\n",
    "\n",
    "ms_dict = \"/mnt/d/compare/\" + param_name_2 + \".ckpt\"\n",
    "ln2_dict = ms.load_checkpoint(ms_dict)"
   ]
  },
  {
   "cell_type": "code",
   "execution_count": 16,
   "id": "2749ac91",
   "metadata": {},
   "outputs": [
    {
     "name": "stderr",
     "output_type": "stream",
     "text": [
      "[WARNING] ME(793:139782206034304,MainProcess):2023-06-15-10:00:40.368.554 [mindspore/train/serialization.py:736] For 'load_param_into_net', remove parameter prefix name: bert.embeddings.LayerNorm., continue to load.\n"
     ]
    },
    {
     "data": {
      "text/plain": [
       "[]"
      ]
     },
     "execution_count": 16,
     "metadata": {},
     "output_type": "execute_result"
    }
   ],
   "source": [
    "from mindspore.nn import LayerNorm\n",
    "ln2 = LayerNorm((768,), epsilon=1e-12)\n",
    "ms.load_param_into_net(ln2, ln2_dict)"
   ]
  },
  {
   "cell_type": "code",
   "execution_count": 17,
   "id": "067b4d46",
   "metadata": {},
   "outputs": [],
   "source": [
    "ln.elementwise_affine=False"
   ]
  },
  {
   "cell_type": "code",
   "execution_count": 18,
   "id": "e1821be7",
   "metadata": {},
   "outputs": [
    {
     "data": {
      "text/plain": [
       "LayerNorm((768,), eps=1e-12, elementwise_affine=False)"
      ]
     },
     "execution_count": 18,
     "metadata": {},
     "output_type": "execute_result"
    }
   ],
   "source": [
    "ln"
   ]
  },
  {
   "cell_type": "code",
   "execution_count": 19,
   "id": "20444695",
   "metadata": {},
   "outputs": [
    {
     "data": {
      "text/plain": [
       "LayerNorm<normalized_shape=(768,), begin_norm_axis=-1, begin_params_axis=-1, gammaParameter (name=gamma, shape=(768,), dtype=Float32, requires_grad=True), beta=Parameter (name=beta, shape=(768,), dtype=Float32, requires_grad=True)>"
      ]
     },
     "execution_count": 19,
     "metadata": {},
     "output_type": "execute_result"
    }
   ],
   "source": [
    "ln2"
   ]
  },
  {
   "cell_type": "code",
   "execution_count": 20,
   "id": "8a521847",
   "metadata": {},
   "outputs": [
    {
     "data": {
      "text/plain": [
       "True"
      ]
     },
     "execution_count": 20,
     "metadata": {},
     "output_type": "execute_result"
    }
   ],
   "source": [
    "(ln.bias.detach().numpy() == ln2.beta.value().asnumpy()).all()"
   ]
  },
  {
   "cell_type": "code",
   "execution_count": 21,
   "id": "0bbbc8e7",
   "metadata": {},
   "outputs": [
    {
     "data": {
      "text/plain": [
       "True"
      ]
     },
     "execution_count": 21,
     "metadata": {},
     "output_type": "execute_result"
    }
   ],
   "source": [
    "(ln.weight.detach().numpy() == ln2.gamma.value().asnumpy()).all()"
   ]
  },
  {
   "cell_type": "code",
   "execution_count": 22,
   "id": "450b4aab",
   "metadata": {},
   "outputs": [
    {
     "data": {
      "text/plain": [
       "True"
      ]
     },
     "execution_count": 22,
     "metadata": {},
     "output_type": "execute_result"
    }
   ],
   "source": [
    "ln.eps == ln2.epsilon"
   ]
  },
  {
   "cell_type": "code",
   "execution_count": 23,
   "id": "d0d591e3",
   "metadata": {},
   "outputs": [
    {
     "data": {
      "text/plain": [
       "True"
      ]
     },
     "execution_count": 23,
     "metadata": {},
     "output_type": "execute_result"
    }
   ],
   "source": [
    "(mm.asnumpy() == tt.detach().numpy()).all()"
   ]
  },
  {
   "cell_type": "code",
   "execution_count": 24,
   "id": "03f1798d",
   "metadata": {},
   "outputs": [
    {
     "data": {
      "text/plain": [
       "0.0011546612"
      ]
     },
     "execution_count": 24,
     "metadata": {},
     "output_type": "execute_result"
    }
   ],
   "source": [
    "np.abs(ln2(mm).asnumpy() - ln(tt).detach().numpy()).max()"
   ]
  },
  {
   "cell_type": "markdown",
   "id": "0169d760",
   "metadata": {},
   "source": [
    "## *Linear*"
   ]
  },
  {
   "cell_type": "code",
   "execution_count": 25,
   "id": "e91241b1",
   "metadata": {},
   "outputs": [],
   "source": [
    "param_name_2 = \"Dense\"\n",
    "\n",
    "torch_dict = \"/mnt/d/compare/\" + param_name_2 + \".pth\"\n",
    "ln = torch.load(torch_dict)\n",
    "\n",
    "ms_dict = \"/mnt/d/compare/\" + param_name_2 + \".ckpt\"\n",
    "ln2_dict = ms.load_checkpoint(ms_dict)"
   ]
  },
  {
   "cell_type": "code",
   "execution_count": 26,
   "id": "774bddf3",
   "metadata": {},
   "outputs": [
    {
     "data": {
      "text/plain": [
       "Linear(in_features=768, out_features=768, bias=True)"
      ]
     },
     "execution_count": 26,
     "metadata": {},
     "output_type": "execute_result"
    }
   ],
   "source": [
    "ln"
   ]
  },
  {
   "cell_type": "code",
   "execution_count": 27,
   "id": "de999ad2",
   "metadata": {},
   "outputs": [
    {
     "name": "stderr",
     "output_type": "stream",
     "text": [
      "[WARNING] ME(793:139782206034304,MainProcess):2023-06-15-10:00:46.974.358 [mindspore/train/serialization.py:736] For 'load_param_into_net', remove parameter prefix name: bert.encoder.layer.0.attention.output.dense., continue to load.\n"
     ]
    },
    {
     "data": {
      "text/plain": [
       "[]"
      ]
     },
     "execution_count": 27,
     "metadata": {},
     "output_type": "execute_result"
    }
   ],
   "source": [
    "from mindspore.nn import Dense\n",
    "ln2 = Dense(ln.in_features, ln.out_features)\n",
    "ms.load_param_into_net(ln2, ln2_dict)"
   ]
  },
  {
   "cell_type": "code",
   "execution_count": 28,
   "id": "7ade5d75",
   "metadata": {},
   "outputs": [
    {
     "data": {
      "text/plain": [
       "Dense<input_channels=768, output_channels=768, has_bias=True>"
      ]
     },
     "execution_count": 28,
     "metadata": {},
     "output_type": "execute_result"
    }
   ],
   "source": [
    "ln2"
   ]
  },
  {
   "cell_type": "code",
   "execution_count": 29,
   "id": "9f6d99c4",
   "metadata": {},
   "outputs": [
    {
     "data": {
      "text/plain": [
       "True"
      ]
     },
     "execution_count": 29,
     "metadata": {},
     "output_type": "execute_result"
    }
   ],
   "source": [
    "(ln.weight.detach().numpy() == ln2.weight.value().asnumpy()).all()"
   ]
  },
  {
   "cell_type": "code",
   "execution_count": 30,
   "id": "4f4529cf",
   "metadata": {},
   "outputs": [
    {
     "data": {
      "text/plain": [
       "True"
      ]
     },
     "execution_count": 30,
     "metadata": {},
     "output_type": "execute_result"
    }
   ],
   "source": [
    "(ln.bias.detach().numpy() == ln2.bias.value().asnumpy()).all()"
   ]
  },
  {
   "cell_type": "code",
   "execution_count": 31,
   "id": "38d67158",
   "metadata": {},
   "outputs": [],
   "source": [
    "tt = torch.randn(10, 2, ln.in_features)"
   ]
  },
  {
   "cell_type": "code",
   "execution_count": 32,
   "id": "38967a53",
   "metadata": {},
   "outputs": [],
   "source": [
    "mm = Tensor.from_numpy(tt.detach().numpy())"
   ]
  },
  {
   "cell_type": "code",
   "execution_count": 33,
   "id": "73606ca3",
   "metadata": {},
   "outputs": [
    {
     "data": {
      "text/plain": [
       "4.7683716e-07"
      ]
     },
     "execution_count": 33,
     "metadata": {},
     "output_type": "execute_result"
    }
   ],
   "source": [
    "np.abs(ln2(mm).asnumpy() - ln(tt).detach().numpy()).max()"
   ]
  },
  {
   "cell_type": "code",
   "execution_count": null,
   "id": "6ea544ac",
   "metadata": {},
   "outputs": [],
   "source": []
  }
 ],
 "metadata": {
  "kernelspec": {
   "display_name": "blip2",
   "language": "python",
   "name": "blip2"
  },
  "language_info": {
   "codemirror_mode": {
    "name": "ipython",
    "version": 3
   },
   "file_extension": ".py",
   "mimetype": "text/x-python",
   "name": "python",
   "nbconvert_exporter": "python",
   "pygments_lexer": "ipython3",
   "version": "3.9.16"
  }
 },
 "nbformat": 4,
 "nbformat_minor": 5
}
